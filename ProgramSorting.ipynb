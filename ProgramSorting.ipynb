{
  "nbformat": 4,
  "nbformat_minor": 0,
  "metadata": {
    "colab": {
      "provenance": [],
      "authorship_tag": "ABX9TyOlsgU+RRw2PGvUBWBhs0rJ",
      "include_colab_link": true
    },
    "kernelspec": {
      "name": "python3",
      "display_name": "Python 3"
    },
    "language_info": {
      "name": "python"
    }
  },
  "cells": [
    {
      "cell_type": "markdown",
      "metadata": {
        "id": "view-in-github",
        "colab_type": "text"
      },
      "source": [
        "<a href=\"https://colab.research.google.com/github/naiilard/Program-Sorting/blob/main/ProgramSorting.ipynb\" target=\"_parent\"><img src=\"https://colab.research.google.com/assets/colab-badge.svg\" alt=\"Open In Colab\"/></a>"
      ]
    },
    {
      "cell_type": "code",
      "execution_count": 1,
      "metadata": {
        "colab": {
          "base_uri": "https://localhost:8080/"
        },
        "id": "6x6mz9O5XglY",
        "outputId": "e8d8d65a-ffa5-4021-ca50-457ec781bc1c"
      },
      "outputs": [
        {
          "output_type": "stream",
          "name": "stdout",
          "text": [
            "Masukkan banyak data: 10\n",
            "Masukkan data ke-1: 6\n",
            "Masukkan data ke-2: 12\n",
            "Masukkan data ke-3: 4\n",
            "Masukkan data ke-4: 2\n",
            "Masukkan data ke-5: 8\n",
            "Masukkan data ke-6: 10\n",
            "Masukkan data ke-7: 44\n",
            "Masukkan data ke-8: 1\n",
            "Masukkan data ke-9: 9\n",
            "Masukkan data ke-10: 7\n",
            "Nilai A adalah [6, 12, 4, 2, 8, 10, 44, 1, 9, 7]\n",
            "Proses pengurutan ke-1\n",
            "[4, 12, 6, 2, 8, 10, 44, 1, 9, 7]\n",
            "Proses pengurutan ke-1\n",
            "[2, 12, 6, 4, 8, 10, 44, 1, 9, 7]\n",
            "Proses pengurutan ke-1\n",
            "[1, 12, 6, 4, 8, 10, 44, 2, 9, 7]\n",
            "Proses pengurutan ke-2\n",
            "[1, 6, 12, 4, 8, 10, 44, 2, 9, 7]\n",
            "Proses pengurutan ke-2\n",
            "[1, 4, 12, 6, 8, 10, 44, 2, 9, 7]\n",
            "Proses pengurutan ke-2\n",
            "[1, 2, 12, 6, 8, 10, 44, 4, 9, 7]\n",
            "Proses pengurutan ke-3\n",
            "[1, 2, 6, 12, 8, 10, 44, 4, 9, 7]\n",
            "Proses pengurutan ke-3\n",
            "[1, 2, 4, 12, 8, 10, 44, 6, 9, 7]\n",
            "Proses pengurutan ke-4\n",
            "[1, 2, 4, 8, 12, 10, 44, 6, 9, 7]\n",
            "Proses pengurutan ke-4\n",
            "[1, 2, 4, 6, 12, 10, 44, 8, 9, 7]\n",
            "Proses pengurutan ke-5\n",
            "[1, 2, 4, 6, 10, 12, 44, 8, 9, 7]\n",
            "Proses pengurutan ke-5\n",
            "[1, 2, 4, 6, 8, 12, 44, 10, 9, 7]\n",
            "Proses pengurutan ke-5\n",
            "[1, 2, 4, 6, 7, 12, 44, 10, 9, 8]\n",
            "Proses pengurutan ke-6\n",
            "[1, 2, 4, 6, 7, 10, 44, 12, 9, 8]\n",
            "Proses pengurutan ke-6\n",
            "[1, 2, 4, 6, 7, 9, 44, 12, 10, 8]\n",
            "Proses pengurutan ke-6\n",
            "[1, 2, 4, 6, 7, 8, 44, 12, 10, 9]\n",
            "Proses pengurutan ke-7\n",
            "[1, 2, 4, 6, 7, 8, 12, 44, 10, 9]\n",
            "Proses pengurutan ke-7\n",
            "[1, 2, 4, 6, 7, 8, 10, 44, 12, 9]\n",
            "Proses pengurutan ke-7\n",
            "[1, 2, 4, 6, 7, 8, 9, 44, 12, 10]\n",
            "Proses pengurutan ke-8\n",
            "[1, 2, 4, 6, 7, 8, 9, 12, 44, 10]\n",
            "Proses pengurutan ke-8\n",
            "[1, 2, 4, 6, 7, 8, 9, 10, 44, 12]\n",
            "Proses pengurutan ke-9\n",
            "[1, 2, 4, 6, 7, 8, 9, 10, 12, 44]\n",
            "Nilai minimum adalah 1\n",
            "Nilai maksimum adalah 44\n",
            "Nilai rata-rata adalah 10.3\n"
          ]
        }
      ],
      "source": [
        "# Buatlah algoritma dan program untuk setiap kasus berikut\n",
        "# a mengurutkan bilangan dari terkecil sampai terbesar\n",
        "# b tentukan nilai minimum dan maksimum\n",
        "# c tentukan rerata\n",
        "\n",
        "N = int(input('Masukkan banyak data: ')) # Input banyak items pada array\n",
        "A = [] # Array kosong\n",
        "\n",
        "# Program menginput nilai paa array\n",
        "for i in range(N):\n",
        "  print(f\"Masukkan data ke-{i+1}: \", end = \"\")\n",
        "  data = int(input())\n",
        "  A.append(data)\n",
        "print('Nilai A adalah', A)\n",
        "\n",
        "# Program mengurutkan nilai dalam aray\n",
        "for i in range(N-1):\n",
        "  for j in range(i+1,N):\n",
        "    if A[i] > A[j]:\n",
        "      A[i], A[j] = A[j], A[i]\n",
        "      print(f\"Proses pengurutan ke-{i+1}\")\n",
        "      print(A)\n",
        "      min = A[0]\n",
        "      max = A[N-1]\n",
        "      rerata = sum(A) / len(A)\n",
        "\n",
        "print('Nilai minimum adalah', min)\n",
        "print('Nilai maksimum adalah', max)\n",
        "print('Nilai rata-rata adalah', rerata)"
      ]
    }
  ]
}